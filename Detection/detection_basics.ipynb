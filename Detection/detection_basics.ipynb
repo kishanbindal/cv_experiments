{
 "cells": [
  {
   "cell_type": "markdown",
   "metadata": {},
   "source": [
    "# Introduction\n",
    "\n",
    "## Goals:\n",
    "1. Classify main subject in an image\n",
    "2. Localise on the subject by drawing bounding boxes around it. \n",
    "\n",
    "## Dataset\n",
    "[MNIST](https://www.tensorflow.org/datasets/catalog/mnist) Dataset is being used. \n",
    "1. Images are of shape = (28, 28, 1) \n",
    "2. Since we want to localize on the image, we will be randomly placing it in a 75x75 grid box. \n",
    "\n",
    "\n",
    "Bounding Box localization is modelled as a regression problem. "
   ]
  },
  {
   "cell_type": "code",
   "execution_count": 1,
   "metadata": {},
   "outputs": [],
   "source": [
    "import PIL.Image, PIL.ImageFont, PIL.ImageDraw\n",
    "import numpy as np \n",
    "import matplotlib.pyplot as plt\n",
    "import tensorflow as tf\n",
    "import tensorflow_datasets as tfds"
   ]
  },
  {
   "cell_type": "code",
   "execution_count": 2,
   "metadata": {},
   "outputs": [],
   "source": [
    "import h5py"
   ]
  },
  {
   "cell_type": "markdown",
   "metadata": {},
   "source": [
    "## WorkFlow: \n",
    "\n",
    "### Data Pipeline setup\n",
    "1. Create a function to randomly place MNIST image in a 75x75 grid. \n",
    "2. get the bounding box values from the above process. \n",
    "3. Modify Dataset\n",
    "\n",
    "### Training Strategy to be used\n",
    "\n",
    "1. 1 GPU and 1 CPu on board machine. \n",
    "2. Mirrored Strategy to be used for training. \n",
    "\n",
    "### Model Architecture and Training. \n",
    "1. Loss Functions\n",
    "2. Inference\n",
    "\n",
    "\n",
    "\n",
    "\n"
   ]
  },
  {
   "cell_type": "markdown",
   "metadata": {},
   "source": [
    "## Utility Functions"
   ]
  },
  {
   "cell_type": "markdown",
   "metadata": {},
   "source": [
    "### Visualization functions"
   ]
  },
  {
   "cell_type": "code",
   "execution_count": 160,
   "metadata": {},
   "outputs": [],
   "source": [
    "LABELS = [\"0\", \"1\", \"2\", \"3\", \"4\", \"5\", \"6\", \"7\", \"8\", \"9\"]\n"
   ]
  },
  {
   "cell_type": "code",
   "execution_count": 194,
   "metadata": {},
   "outputs": [],
   "source": [
    "\n",
    "from PIL import Image, ImageDraw\n",
    "\n",
    "def plot_images_with_bbox(dataset, num_images, main_title, title_color):\n",
    "    \"\"\"\n",
    "    dataset: dataset of type tf.data.dataset\n",
    "    num_images: number of images to display in a row.\n",
    "    main_title: Title of the figure\n",
    "    title_color: color for the Title\n",
    "    \"\"\"\n",
    "    for images, (labels, bbs) in dataset.take(1):\n",
    "        fig, axis = plt.subplots(1, num_images, figsize=(16, 4))\n",
    "        fig.suptitle(main_title, color=title_color)\n",
    "        for i in range(num_images):\n",
    "            ax = plt.subplot(1, num_images, i+1)\n",
    "            img = Image.fromarray(np.squeeze((images[i] * 255).numpy().astype(np.int8))).convert(\"RGB\")\n",
    "            x_min, y_min, x_max, y_max = bbs[i][0].numpy(), bbs[i][1].numpy(), bbs[i][2].numpy(), bbs[i][3].numpy()\n",
    "            vert_1 = (x_min, y_min)\n",
    "            vert_2 = (x_max, y_max)\n",
    "            img = draw_bounding_box_on_image(img, (vert_1, vert_2))\n",
    "            plt.imshow(img)\n",
    "            plt.title(LABELS[np.argmax(labels[i])])\n",
    "            plt.axis(False);\n",
    "            pass\n",
    "    pass\n",
    "\n",
    "def draw_bounding_box_on_image(image, bounding_box):\n",
    "    \"\"\"\n",
    "    Takes in an Image and its respective bounding box.\n",
    "    PLots a red color bounding box around the image subject.\n",
    "    returns the image.\n",
    "    \"\"\"\n",
    "    bb_image = ImageDraw.Draw(image)\n",
    "    bb_image.rectangle(bounding_box, outline=(255, 0, 0), width=1)\n",
    "    return image"
   ]
  },
  {
   "cell_type": "code",
   "execution_count": 242,
   "metadata": {},
   "outputs": [],
   "source": [
    "def plot_metrics(history):\n",
    "    \"\"\"\n",
    "    Plot the training history (loss) of the network\n",
    "\n",
    "    history: history.history dictionary from model.\n",
    "    \"\"\"\n",
    "    classifier_loss = history['classifier_loss']\n",
    "    bb_loss = history[\"bounding_box_regression_loss\"]\n",
    "    classifier_accuracy = history['classifier_accuracy']\n",
    "\n",
    "    figure = plt.Figure(figsize=(10, 7))\n",
    "    plt.plot(classifier_loss, c=\"orange\", label=\"Classification Loss\")\n",
    "    plt.plot(classifier_accuracy, c=\"green\", label=\"Classification Accuracy\")\n",
    "    plt.plot(bb_loss, c=\"red\", label=\"regression loss\")\n",
    "    plt.legend()\n",
    "    plt.title(\"Loss Curves for detection\")\n",
    "    plt.xlabel(\"EPOCHS\")\n",
    "    plt.show();"
   ]
  },
  {
   "cell_type": "markdown",
   "metadata": {},
   "source": [
    "### Dataset Mapping Functions"
   ]
  },
  {
   "cell_type": "code",
   "execution_count": 42,
   "metadata": {},
   "outputs": [],
   "source": [
    "def add_padding_and_bb(image, label):\n",
    "    \"\"\"\n",
    "    Mapping function to add padding to the images, returning their bounding box co-ordinates and modified image.\n",
    "    \"\"\"\n",
    "    final_h, final_w = 75, 75\n",
    "    x_min, y_min = tf.random.uniform(shape=(), minval=0, maxval=48, dtype=tf.int32), tf.random.uniform(shape=(), minval=0, maxval=48, dtype=tf.int32)\n",
    "    x_max, y_max = x_min + 28, y_min + 28\n",
    "    image = tf.image.pad_to_bounding_box(image=image, offset_height=y_min, offset_width=x_min, target_height=final_h, target_width=final_w)\n",
    "    image = tf.cast(image, tf.float16)/255.0\n",
    "    return image, (tf.one_hot(label, 10), [x_min, y_min, x_max, y_max])\n"
   ]
  },
  {
   "cell_type": "markdown",
   "metadata": {},
   "source": [
    "## Strategy\n",
    "\n",
    "Using default strategy which uses CPU and single GPU"
   ]
  },
  {
   "cell_type": "code",
   "execution_count": 31,
   "metadata": {},
   "outputs": [
    {
     "name": "stdout",
     "output_type": "stream",
     "text": [
      "Running on single GPU,  /device:GPU:0\n",
      "Number of accelerators :  1\n"
     ]
    }
   ],
   "source": [
    "gpus = tf.config.list_logical_devices(\"GPU\")\n",
    "\n",
    "if len(gpus) > 1:\n",
    "    strategy = tf.distribute.MirroredStrategy([gpu.name for gpu in gpus])\n",
    "    print(\"Running on multiple GPUS \", [gpu.name for gpu in gpus])\n",
    "elif len(gpus) == 1:\n",
    "    strategy = tf.distribute.get_strategy()\n",
    "    print(\"Running on single GPU, \", gpus[0].name)\n",
    "else:\n",
    "    strategy = tf.distribute.get_strategy()\n",
    "    print(\"Running on CPU\")\n",
    "\n",
    "print(\"Number of accelerators : \", strategy.num_replicas_in_sync)"
   ]
  },
  {
   "cell_type": "markdown",
   "metadata": {},
   "source": [
    "## DataPipeline Setup"
   ]
  },
  {
   "cell_type": "code",
   "execution_count": 186,
   "metadata": {},
   "outputs": [],
   "source": [
    "# Setting Global Batch Size\n",
    "# Trickles down accordingly to each replica\n",
    "BATCH_SIZE = 32 * strategy.num_replicas_in_sync"
   ]
  },
  {
   "cell_type": "code",
   "execution_count": 187,
   "metadata": {},
   "outputs": [
    {
     "name": "stderr",
     "output_type": "stream",
     "text": [
      "WARNING:absl:Warning: Setting shuffle_files=True because split=TRAIN and shuffle_files=None. This behavior will be deprecated on 2019-08-06, at which point shuffle_files=False will be the default for all splits.\n"
     ]
    }
   ],
   "source": [
    "# Getting the training and test dataset\n",
    "\n",
    "with strategy.scope():\n",
    "    train_ds, train_info = tfds.load(\"mnist\",split=\"train\",as_supervised=True, with_info= True)\n",
    "    # train_ds, test_ds = ds[\"train\"], ds[\"test\"]\n",
    "    test_ds, test_info = tfds.load(\"mnist\", split=\"test\", as_supervised=True, with_info=True)\n",
    "    train_ds = train_ds.map(add_padding_and_bb, num_parallel_calls=tf.data.AUTOTUNE)\n",
    "    train_ds = train_ds.shuffle(1000).batch(BATCH_SIZE).prefetch(tf.data.AUTOTUNE)\n",
    "    test_ds = test_ds.map(add_padding_and_bb, num_parallel_calls=tf.data.AUTOTUNE)\n",
    "    test_ds = test_ds.shuffle(1000).batch(BATCH_SIZE).prefetch(tf.data.AUTOTUNE)"
   ]
  },
  {
   "cell_type": "markdown",
   "metadata": {},
   "source": [
    "## Visualizing the Datasets"
   ]
  },
  {
   "cell_type": "code",
   "execution_count": 195,
   "metadata": {},
   "outputs": [
    {
     "data": {
      "image/png": "[encoded data removed]",
      "text/plain": [
       "<Figure size 1600x400 with 10 Axes>"
      ]
     },
     "metadata": {},
     "output_type": "display_data"
    }
   ],
   "source": [
    "plot_images_with_bbox(train_ds, 10, \"Training Dataset\", \"red\")"
   ]
  },
  {
   "cell_type": "markdown",
   "metadata": {},
   "source": [
    "## Defining the network architecture\n",
    "\n",
    "We will be working with a custom CNN architecture.\n",
    "\n",
    "A typical object detection algorithm has the following elements:\n",
    "\n",
    "* `feature_extractor` : This section of the algorithm contains convolution layers that focus on extracting the features from the image ( feature vector generation)\n",
    "\n",
    "* `classifier` : Output layers for classification which contain Dense layers and a classification layer with softmax.\n",
    "\n",
    "* `bounding_box_regression`: Predicts 4 values which define the co-ordinates of the bounding box (xmin, ymin, xmax, ymax)\n",
    "\n",
    "\n",
    "The Final model combines the layers for feature extraction, classification and bounding box prediction.\n"
   ]
  },
  {
   "cell_type": "code",
   "execution_count": 228,
   "metadata": {},
   "outputs": [],
   "source": [
    "\"\"\"\n",
    "feature extraction layer made of alternating convolutional and pooling blocks\n",
    "\"\"\"\n",
    "def feature_extractor(inputs):\n",
    "    x = tf.keras.layers.Conv2D(filters=16, activation=\"relu\", kernel_size=3, input_shape=(75, 75, 1))(inputs)\n",
    "    x = tf.keras.layers.AveragePooling2D((2, 2))(x)\n",
    "\n",
    "    x = tf.keras.layers.Conv2D(32, kernel_size = 3, activation=\"relu\")(x)\n",
    "    x = tf.keras.layers.AveragePooling2D((2, 2))(x)\n",
    "\n",
    "    x = tf.keras.layers.Conv2D(64, kernel_size=3, activation=\"relu\")(x)\n",
    "    x = tf.keras.layers.AveragePooling2D((2, 2))(x)\n",
    "\n",
    "    return x\n",
    "\n",
    "\"\"\"\n",
    "The Dense layer has a flatten layer above it. \n",
    "Follows the feature extraction layers\n",
    "\"\"\"\n",
    "def dense_layers(inputs):\n",
    "    x = tf.keras.layers.Flatten()(inputs)\n",
    "    x = tf.keras.layers.Dense(128, activation=\"relu\")(x)\n",
    "    return x\n",
    "\n",
    "\"\"\"\n",
    "Consists of a dense classification layer with softmax activation\n",
    "\"\"\"\n",
    "def classifier(inputs):\n",
    "    x = tf.keras.layers.Dense(10, activation=\"softmax\", name=\"classifier\")(inputs)\n",
    "    return x\n",
    "\n",
    "def bounding_box_regression(inputs):\n",
    "    x = tf.keras.layers.Dense(units=4, name=\"bounding_box_regression\")(inputs)\n",
    "    return x\n",
    "\n",
    "def final_model(inputs):\n",
    "    feature_vec= feature_extractor(inputs)\n",
    "    dense_output = dense_layers(feature_vec)\n",
    "\n",
    "    \"\"\"\n",
    "    The above output of the dense layers is to be split\n",
    "    amongst the classification and bounding box regression branches\n",
    "    \"\"\"\n",
    "    classification_output = classifier(dense_output)\n",
    "    bounding_box_regression_output = bounding_box_regression(dense_output)\n",
    "\n",
    "    model = tf.keras.Model(inputs=input, outputs=[classification_output, bounding_box_regression_output])\n",
    "\n",
    "    return model\n",
    "\n",
    "def build_and_compile_model(inputs):\n",
    "    model = final_model(inputs)\n",
    "\n",
    "    model.compile(\n",
    "        optimizer=tf.keras.optimizers.Adam(),\n",
    "        loss={\n",
    "            \"classifier\": \"categorical_crossentropy\",\n",
    "            \"bounding_box_regression\": \"mse\"\n",
    "        },\n",
    "        metrics={\n",
    "            \"classifier\": \"accuracy\",\n",
    "            \"bounding_box_regression\": \"mse\"\n",
    "        }\n",
    "    )\n",
    "    return model"
   ]
  },
  {
   "cell_type": "code",
   "execution_count": 229,
   "metadata": {},
   "outputs": [
    {
     "name": "stdout",
     "output_type": "stream",
     "text": [
      "Model: \"model_4\"\n",
      "__________________________________________________________________________________________________\n",
      " Layer (type)                   Output Shape         Param #     Connected to                     \n",
      "==================================================================================================\n",
      " input_8 (InputLayer)           [(None, 75, 75, 1)]  0           []                               \n",
      "                                                                                                  \n",
      " conv2d_16 (Conv2D)             (None, 73, 73, 16)   160         ['input_8[0][0]']                \n",
      "                                                                                                  \n",
      " average_pooling2d_16 (AverageP  (None, 36, 36, 16)  0           ['conv2d_16[0][0]']              \n",
      " ooling2D)                                                                                        \n",
      "                                                                                                  \n",
      " conv2d_17 (Conv2D)             (None, 34, 34, 32)   4640        ['average_pooling2d_16[0][0]']   \n",
      "                                                                                                  \n",
      " average_pooling2d_17 (AverageP  (None, 17, 17, 32)  0           ['conv2d_17[0][0]']              \n",
      " ooling2D)                                                                                        \n",
      "                                                                                                  \n",
      " conv2d_18 (Conv2D)             (None, 15, 15, 64)   18496       ['average_pooling2d_17[0][0]']   \n",
      "                                                                                                  \n",
      " average_pooling2d_18 (AverageP  (None, 7, 7, 64)    0           ['conv2d_18[0][0]']              \n",
      " ooling2D)                                                                                        \n",
      "                                                                                                  \n",
      " flatten_4 (Flatten)            (None, 3136)         0           ['average_pooling2d_18[0][0]']   \n",
      "                                                                                                  \n",
      " dense_4 (Dense)                (None, 128)          401536      ['flatten_4[0][0]']              \n",
      "                                                                                                  \n",
      " classifier (Dense)             (None, 10)           1290        ['dense_4[0][0]']                \n",
      "                                                                                                  \n",
      " bounding_box_regression (Dense  (None, 4)           516         ['dense_4[0][0]']                \n",
      " )                                                                                                \n",
      "                                                                                                  \n",
      "==================================================================================================\n",
      "Total params: 426,638\n",
      "Trainable params: 426,638\n",
      "Non-trainable params: 0\n",
      "__________________________________________________________________________________________________\n"
     ]
    }
   ],
   "source": [
    "with strategy.scope():\n",
    "    input = tf.keras.layers.Input(shape=(75, 75, 1))\n",
    "    model = build_and_compile_model(input)\n",
    "\n",
    "model.summary()"
   ]
  },
  {
   "cell_type": "code",
   "execution_count": 230,
   "metadata": {},
   "outputs": [
    {
     "data": {
      "text/plain": [
       "tfds.core.DatasetInfo(\n",
       "    name='mnist',\n",
       "    version=1.0.0,\n",
       "    description='The MNIST database of handwritten digits.',\n",
       "    urls=['https://storage.googleapis.com/cvdf-datasets/mnist/'],\n",
       "    features=FeaturesDict({\n",
       "        'image': Image(shape=(28, 28, 1), dtype=tf.uint8),\n",
       "        'label': ClassLabel(shape=(), dtype=tf.int64, num_classes=10),\n",
       "    }),\n",
       "    total_num_examples=70000,\n",
       "    splits={\n",
       "        'test': 10000,\n",
       "        'train': 60000,\n",
       "    },\n",
       "    supervised_keys=('image', 'label'),\n",
       "    citation=\"\"\"@article{lecun2010mnist,\n",
       "      title={MNIST handwritten digit database},\n",
       "      author={LeCun, Yann and Cortes, Corinna and Burges, CJ},\n",
       "      journal={ATT Labs [Online]. Available: http://yann. lecun. com/exdb/mnist},\n",
       "      volume={2},\n",
       "      year={2010}\n",
       "    }\"\"\",\n",
       "    redistribution_info=,\n",
       ")"
      ]
     },
     "execution_count": 230,
     "metadata": {},
     "output_type": "execute_result"
    }
   ],
   "source": [
    "ds_info"
   ]
  },
  {
   "cell_type": "code",
   "execution_count": 231,
   "metadata": {},
   "outputs": [
    {
     "name": "stdout",
     "output_type": "stream",
     "text": [
      "Epoch 1/10\n",
      "1875/1875 [==============================] - 12s 6ms/step - loss: 25.4605 - classifier_loss: 2.4310 - bounding_box_regression_loss: 23.0295 - classifier_accuracy: 0.1427 - bounding_box_regression_mse: 23.0295\n",
      "Epoch 2/10\n",
      "1875/1875 [==============================] - 11s 6ms/step - loss: 3.3954 - classifier_loss: 2.1197 - bounding_box_regression_loss: 1.2756 - classifier_accuracy: 0.2360 - bounding_box_regression_mse: 1.2756\n",
      "Epoch 3/10\n",
      "1875/1875 [==============================] - 11s 6ms/step - loss: 2.6557 - classifier_loss: 1.9729 - bounding_box_regression_loss: 0.6828 - classifier_accuracy: 0.2842 - bounding_box_regression_mse: 0.6828\n",
      "Epoch 4/10\n",
      "1875/1875 [==============================] - 12s 6ms/step - loss: 2.1822 - classifier_loss: 1.6245 - bounding_box_regression_loss: 0.5576 - classifier_accuracy: 0.4163 - bounding_box_regression_mse: 0.5576\n",
      "Epoch 5/10\n",
      "1875/1875 [==============================] - 12s 6ms/step - loss: 1.3702 - classifier_loss: 0.8891 - bounding_box_regression_loss: 0.4811 - classifier_accuracy: 0.7014 - bounding_box_regression_mse: 0.4811\n",
      "Epoch 6/10\n",
      "1875/1875 [==============================] - 12s 6ms/step - loss: 0.9182 - classifier_loss: 0.5251 - bounding_box_regression_loss: 0.3931 - classifier_accuracy: 0.8344 - bounding_box_regression_mse: 0.3931\n",
      "Epoch 7/10\n",
      "1875/1875 [==============================] - 12s 6ms/step - loss: 0.7277 - classifier_loss: 0.3825 - bounding_box_regression_loss: 0.3452 - classifier_accuracy: 0.8824 - bounding_box_regression_mse: 0.3452\n",
      "Epoch 8/10\n",
      "1875/1875 [==============================] - 12s 6ms/step - loss: 0.6083 - classifier_loss: 0.2977 - bounding_box_regression_loss: 0.3106 - classifier_accuracy: 0.9102 - bounding_box_regression_mse: 0.3106\n",
      "Epoch 9/10\n",
      "1875/1875 [==============================] - 12s 6ms/step - loss: 0.5266 - classifier_loss: 0.2430 - bounding_box_regression_loss: 0.2836 - classifier_accuracy: 0.9256 - bounding_box_regression_mse: 0.2836\n",
      "Epoch 10/10\n",
      "1875/1875 [==============================] - 12s 6ms/step - loss: 0.4829 - classifier_loss: 0.2141 - bounding_box_regression_loss: 0.2688 - classifier_accuracy: 0.9362 - bounding_box_regression_mse: 0.2688\n"
     ]
    }
   ],
   "source": [
    "EPOCHS = 10\n",
    "steps_per_epoch = 60000//BATCH_SIZE \n",
    "\n",
    "history = model.fit(\n",
    "    train_ds,\n",
    "    epochs=EPOCHS,\n",
    "    batch_size=BATCH_SIZE\n",
    ")"
   ]
  },
  {
   "cell_type": "code",
   "execution_count": 243,
   "metadata": {},
   "outputs": [
    {
     "data": {
      "image/png": "[encoded data removed]",
      "text/plain": [
       "<Figure size 640x480 with 1 Axes>"
      ]
     },
     "metadata": {},
     "output_type": "display_data"
    }
   ],
   "source": [
    "plot_metrics(history.history)"
   ]
  },
  {
   "cell_type": "markdown",
   "metadata": {},
   "source": [
    "## Intersection over union"
   ]
  },
  {
   "cell_type": "code",
   "execution_count": 244,
   "metadata": {},
   "outputs": [],
   "source": [
    "def intersection_over_union(pred_bb, true_bb):\n",
    "    x_min_pred, y_min_pred, x_max_pred, y_max_pred = np.split(pred_bb, 4, axis=1)\n",
    "    x_min_true, y_min_true, x_max_true, y_max_true = np.split(true_bb, 4, axis=1)\n",
    "    smoothing_factor=  1e-10\n",
    "\n",
    "    x_min_overlap = np.maximum(x_min_pred, x_min_true)\n",
    "    x_max_overlap = np.maximum(x_max_pred, x_max_true)\n",
    "    y_max_overlap = np.maximum(y_max_pred, y_max_true)\n",
    "    y_min_overlap = np.maximum(y_min_pred, y_min_true)\n",
    "\n",
    "    pred_box_area = (x_max_pred - x_min_pred) * (y_max_pred - y_min_pred)\n",
    "    true_box_area = (x_max_true - x_min_true) * (y_max_true - y_min_true)\n",
    "\n",
    "    overlap_area = np.maximum((x_max_overlap - x_min_overlap), 0) * np.maximum((y_max_overlap - y_min_overlap), 0)\n",
    "    union_area = (pred_box_area + true_box_area) - overlap_area\n",
    "\n",
    "    iou = (overlap_area + smoothing_factor) / (union_area + smoothing_factor)\n",
    "\n",
    "    return iou"
   ]
  },
  {
   "cell_type": "code",
   "execution_count": null,
   "metadata": {},
   "outputs": [],
   "source": []
  }
 ],
 "metadata": {
  "kernelspec": {
   "display_name": "cv",
   "language": "python",
   "name": "python3"
  },
  "language_info": {
   "codemirror_mode": {
    "name": "ipython",
    "version": 3
   },
   "file_extension": ".py",
   "mimetype": "text/x-python",
   "name": "python",
   "nbconvert_exporter": "python",
   "pygments_lexer": "ipython3",
   "version": "3.10.13"
  }
 },
 "nbformat": 4,
 "nbformat_minor": 2
}
